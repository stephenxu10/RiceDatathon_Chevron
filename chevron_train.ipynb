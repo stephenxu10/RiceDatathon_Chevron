{
 "cells": [
  {
   "cell_type": "code",
   "execution_count": 66,
   "outputs": [],
   "source": [
    "import pandas as pd\n",
    "import torch\n",
    "\n",
    "device = 'cuda'"
   ],
   "metadata": {
    "collapsed": false,
    "pycharm": {
     "name": "#%%\n"
    }
   }
  },
  {
   "cell_type": "code",
   "execution_count": 67,
   "outputs": [],
   "source": [
    "overall_data = pd.read_csv(\"./chevron.csv\")"
   ],
   "metadata": {
    "collapsed": false,
    "pycharm": {
     "name": "#%%\n"
    }
   }
  },
  {
   "cell_type": "code",
   "execution_count": 68,
   "outputs": [
    {
     "name": "stdout",
     "output_type": "stream",
     "text": [
      "['Row' 'MSN' 'StateCode' 'Year' 'Amount' 'State' 'CO2 Emissions (Mmt)'\n",
      " 'TotalNumberofInvestments' 'TotalAmountofAssistance']\n"
     ]
    }
   ],
   "source": [
    "print(overall_data.columns.values)"
   ],
   "metadata": {
    "collapsed": false,
    "pycharm": {
     "name": "#%%\n"
    }
   }
  },
  {
   "cell_type": "code",
   "execution_count": 69,
   "outputs": [
    {
     "name": "stdout",
     "output_type": "stream",
     "text": [
      "       Row    MSN StateCode  Year    Amount  State  CO2 Emissions (Mmt)  \\\n",
      "1247  1247  BDFDB        TX  2015   18977.0  Texas           655.143227   \n",
      "1248  1248  BDPRP        TX  2015    3493.0  Texas           655.143227   \n",
      "1249  1249  BFFDB        TX  2015   66021.0  Texas           655.143227   \n",
      "1250  1250  BFPRP        TX  2015   11734.0  Texas           655.143227   \n",
      "1251  1251  CLPRB        TX  2015  471257.0  Texas           655.143227   \n",
      "...    ...    ...       ...   ...       ...    ...                  ...   \n",
      "7347  7347  WDPRB        TX  2019   64868.0  Texas           683.232570   \n",
      "7348  7348  WDTCB        TX  2019   59336.0  Texas           683.232570   \n",
      "7349  7349  WSTCB        TX  2019   21569.0  Texas           683.232570   \n",
      "7350  7350  WWPRB        TX  2019   86437.0  Texas           683.232570   \n",
      "7351  7351  WYTCB        TX  2019  744639.0  Texas           683.232570   \n",
      "\n",
      "      TotalNumberofInvestments  TotalAmountofAssistance  \n",
      "1247                     110.0                2671308.0  \n",
      "1248                     110.0                2671308.0  \n",
      "1249                     110.0                2671308.0  \n",
      "1250                     110.0                2671308.0  \n",
      "1251                     110.0                2671308.0  \n",
      "...                        ...                      ...  \n",
      "7347                     122.0                9605822.0  \n",
      "7348                     122.0                9605822.0  \n",
      "7349                     122.0                9605822.0  \n",
      "7350                     122.0                9605822.0  \n",
      "7351                     122.0                9605822.0  \n",
      "\n",
      "[145 rows x 9 columns]\n"
     ]
    }
   ],
   "source": [
    "texas_data = overall_data.query(\"StateCode == 'TX'\")\n",
    "print(texas_data)"
   ],
   "metadata": {
    "collapsed": false,
    "pycharm": {
     "name": "#%%\n"
    }
   }
  },
  {
   "cell_type": "code",
   "execution_count": 70,
   "outputs": [
    {
     "name": "stdout",
     "output_type": "stream",
     "text": [
      "['Row' 'MSN' 'StateCode' 'Year' 'Amount' 'State' 'CO2 Emissions (Mmt)'\n",
      " 'TotalNumberofInvestments' 'TotalAmountofAssistance']\n"
     ]
    }
   ],
   "source": [
    "inputs = overall_data.columns.values\n",
    "print(inputs)"
   ],
   "metadata": {
    "collapsed": false,
    "pycharm": {
     "name": "#%%\n"
    }
   }
  },
  {
   "cell_type": "code",
   "execution_count": 70,
   "outputs": [],
   "source": [],
   "metadata": {
    "collapsed": false,
    "pycharm": {
     "name": "#%%\n"
    }
   }
  }
 ],
 "metadata": {
  "kernelspec": {
   "display_name": "Python 3",
   "language": "python",
   "name": "python3"
  },
  "language_info": {
   "codemirror_mode": {
    "name": "ipython",
    "version": 2
   },
   "file_extension": ".py",
   "mimetype": "text/x-python",
   "name": "python",
   "nbconvert_exporter": "python",
   "pygments_lexer": "ipython2",
   "version": "2.7.6"
  }
 },
 "nbformat": 4,
 "nbformat_minor": 0
}